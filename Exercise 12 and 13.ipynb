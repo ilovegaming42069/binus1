{
 "cells": [
  {
   "cell_type": "code",
   "execution_count": 11,
   "id": "1a8148fa",
   "metadata": {},
   "outputs": [],
   "source": [
    "class Temperature:\n",
    "    def __init__(self, celsius):\n",
    "        self.__celsius = celsius\n",
    "        \n",
    "    def to_celsius(self):\n",
    "        return self.__celsius\n",
    "        \n",
    "    def to_fahrenheit(self):\n",
    "        return self.__celsius * 9/5 + 32\n",
    "    \n",
    "    def to_kelvin(self):\n",
    "        return self.__celsius + 273.15\n",
    "    \n",
    "    def set_temperature(self, celsius):\n",
    "        if celsius >= -273.15:\n",
    "            self.__celsius = celsius\n",
    "    \n",
    "    def __str__(self):\n",
    "        return \"Celsius: \" + str(self.__celsius) + \"\\nFahrenheit: \" + str(self.__celsius * 9/5 + 32) + \"\\nKelvin: \" + str(self.__celsius + 273.15)\n"
   ]
  },
  {
   "cell_type": "code",
   "execution_count": 12,
   "id": "6a36eec9",
   "metadata": {},
   "outputs": [
    {
     "name": "stdout",
     "output_type": "stream",
     "text": [
      "-273.15\n",
      "-459.66999999999996\n",
      "0.0\n",
      "Celsius: -273.15\n",
      "Fahrenheit: -459.66999999999996\n",
      "Kelvin: 0.0\n"
     ]
    }
   ],
   "source": [
    "absolute_zero = Temperature(-273.15)\n",
    "\n",
    "print(absolute_zero.to_celsius())\n",
    "print(absolute_zero.to_fahrenheit())\n",
    "print(absolute_zero.to_kelvin())\n",
    "\n",
    "print(absolute_zero)"
   ]
  },
  {
   "cell_type": "code",
   "execution_count": 13,
   "id": "254966e0",
   "metadata": {},
   "outputs": [],
   "source": [
    "class Array:\n",
    "    def __init__(self, array):\n",
    "        self.__array = array\n",
    "    \n",
    "    def get(self, i):\n",
    "        return self.__array[i]\n",
    "    \n",
    "    def append(self, i):\n",
    "        self.__array.append(i)\n",
    "    \n",
    "    def pop(self):\n",
    "        self.__array.pop()\n",
    "    \n",
    "    def extend(self, i):\n",
    "        self.__array.extend(i)\n",
    "    \n",
    "    def insert(self, i, j):\n",
    "        self.__array.insert(i, j)\n",
    "    \n",
    "    def index(self, i):\n",
    "        self.__array.index(i)\n",
    "    \n",
    "    def length(self):\n",
    "        return len(self.__array)\n",
    "        "
   ]
  },
  {
   "cell_type": "code",
   "execution_count": 20,
   "id": "3e3746fc",
   "metadata": {},
   "outputs": [
    {
     "name": "stdout",
     "output_type": "stream",
     "text": [
      "zero\n",
      "9\n"
     ]
    }
   ],
   "source": [
    "arr = Array([\"zero\", \"one\", \"two\", \"three\", \"four\"])\n",
    "\n",
    "print(arr.get(0))\n",
    "arr.append(\"five\")\n",
    "arr.pop()\n",
    "arr.extend([\"five\", \"six\", \"seven\"])\n",
    "arr.insert(8, \"eight\")\n",
    "arr.index(\"zero\")\n",
    "print(arr.length())"
   ]
  },
  {
   "cell_type": "code",
   "execution_count": null,
   "id": "6cb89a94",
   "metadata": {},
   "outputs": [],
   "source": []
  }
 ],
 "metadata": {
  "kernelspec": {
   "display_name": "Python 3 (ipykernel)",
   "language": "python",
   "name": "python3"
  },
  "language_info": {
   "codemirror_mode": {
    "name": "ipython",
    "version": 3
   },
   "file_extension": ".py",
   "mimetype": "text/x-python",
   "name": "python",
   "nbconvert_exporter": "python",
   "pygments_lexer": "ipython3",
   "version": "3.10.2"
  }
 },
 "nbformat": 4,
 "nbformat_minor": 5
}
