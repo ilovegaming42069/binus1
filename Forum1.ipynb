{
 "cells": [
  {
   "cell_type": "code",
   "execution_count": 6,
   "id": "635fa3ac",
   "metadata": {},
   "outputs": [
    {
     "name": "stdout",
     "output_type": "stream",
     "text": [
      "Enter a radius (greater than 0): 5\n",
      "78.5\n"
     ]
    }
   ],
   "source": [
    "#Write a Python program which accepts the radius of a circle from the user and compute the area\n",
    "r = float(input(\"Enter a radius (greater than 0): \"))\n",
    "print(3.14*r**2)"
   ]
  },
  {
   "cell_type": "code",
   "execution_count": 9,
   "id": "95771027",
   "metadata": {},
   "outputs": [
    {
     "name": "stdout",
     "output_type": "stream",
     "text": [
      "Enter your first name: akmal\n",
      "Enter your last name: sutoyo\n",
      "sutoyo akmal\n"
     ]
    }
   ],
   "source": [
    "#Write a Python program which accepts the user's first and last name and print them in reverse order with a space between them\n",
    "first_name = input(\"Enter your first name: \")\n",
    "last_name = input(\"Enter your last name: \")\n",
    "print(last_name, first_name)"
   ]
  },
  {
   "cell_type": "code",
   "execution_count": 6,
   "id": "326c8088",
   "metadata": {},
   "outputs": [
    {
     "name": "stdout",
     "output_type": "stream",
     "text": [
      "Red\n",
      "Black\n"
     ]
    }
   ],
   "source": [
    "#Write a Python program to display the first and last colors from the following list\n",
    "color_list = [\"Red\",\"Green\",\"White\",\"Black\"]\n",
    "print(color_list[0])\n",
    "print(color_list[-1])"
   ]
  },
  {
   "cell_type": "code",
   "execution_count": 4,
   "id": "6ab2e500",
   "metadata": {},
   "outputs": [
    {
     "name": "stdout",
     "output_type": "stream",
     "text": [
      "Enter a number: 2\n",
      "246\n"
     ]
    }
   ],
   "source": [
    "#Write a Python program that accepts an integer (n) and computes the value of n+nn+nnn\n",
    "n = input(\"Enter a number: \")\n",
    "print(int(n)+ int(n*2) + int(n*3))"
   ]
  },
  {
   "cell_type": "code",
   "execution_count": 3,
   "id": "5e0e6000",
   "metadata": {},
   "outputs": [
    {
     "name": "stdout",
     "output_type": "stream",
     "text": [
      "904.3199999999999\n"
     ]
    }
   ],
   "source": [
    "#Write a Python program to get the volume of a sphere with radius 6\n",
    "r = 6\n",
    "print(4/3 * 3.14 * r**3)"
   ]
  },
  {
   "cell_type": "code",
   "execution_count": 12,
   "id": "64316e03",
   "metadata": {},
   "outputs": [
    {
     "name": "stdout",
     "output_type": "stream",
     "text": [
      "Enter any number: 20\n",
      "6\n"
     ]
    }
   ],
   "source": [
    "#Write a Python program to get the difference between a given number and 17, if the number is greater than 17 return double the absolute difference\n",
    "n = int(input(\"Enter any number: \"))\n",
    "if n <= 17:\n",
    "    print(17 - n)\n",
    "else:\n",
    "    print((n - 17)*2)"
   ]
  },
  {
   "cell_type": "code",
   "execution_count": 2,
   "id": "047acf90",
   "metadata": {},
   "outputs": [
    {
     "name": "stdout",
     "output_type": "stream",
     "text": [
      "Enter any number: 7\n",
      "Enter any number: 7\n",
      "Enter any number: 7\n",
      "63\n"
     ]
    }
   ],
   "source": [
    "#Write a Python program to calculate the sum of three given numbers, if the values are equal then return thrice of their sum\n",
    "n1 = int(input(\"Enter any number: \"))\n",
    "n2 = int(input(\"Enter any number: \"))\n",
    "n3 = int(input(\"Enter any number: \"))\n",
    "if n1 == n2 == n3:\n",
    "    print((n1 + n2 +n3)*3)\n",
    "else:\n",
    "    print(n1+n2+n3)"
   ]
  },
  {
   "cell_type": "code",
   "execution_count": 5,
   "id": "0ab8b89a",
   "metadata": {},
   "outputs": [
    {
     "name": "stdout",
     "output_type": "stream",
     "text": [
      "Enter a number: 69\n",
      "This number is odd\n"
     ]
    }
   ],
   "source": [
    "#Write a Python program to find whether a given number (accept from the user) is even or odd, print out an appropriate message to the user\n",
    "n = int(input(\"Enter a number: \"))\n",
    "if n % 2 == 0:\n",
    "    print(\"This number is even\")\n",
    "else:\n",
    "    print(\"This number is odd\")"
   ]
  },
  {
   "cell_type": "code",
   "execution_count": 13,
   "id": "856dfe81",
   "metadata": {},
   "outputs": [
    {
     "name": "stdout",
     "output_type": "stream",
     "text": [
      "Enter a letter (A to Z): f\n",
      "This is not a vowel\n"
     ]
    }
   ],
   "source": [
    "#Write a Python program to test whether a letter is a vowel or not\n",
    "letter = input(\"Enter a letter (A to Z): \")\n",
    "if letter in (\"A\", \"a\", \"I\", \"i\", \"U\", \"u\", \"e\", \"E\", \"o\", \"O\"):\n",
    "    print(\"This is a vowel\")\n",
    "else:\n",
    "    print(\"This is not a vowel\")"
   ]
  },
  {
   "cell_type": "code",
   "execution_count": 14,
   "id": "7e1a5dc8",
   "metadata": {},
   "outputs": [
    {
     "name": "stdout",
     "output_type": "stream",
     "text": [
      "Enter a student name: akmal\n",
      "It's inside\n"
     ]
    }
   ],
   "source": [
    "#Write a Python program to check whether a specified value is contained in a group of values\n",
    "Students = [\"Akmal\", \"David\", \"Nathan\", \"Carlo\"]\n",
    "name = input(\"Enter a student name: \")\n",
    "name = name.capitalize()\n",
    "if name in Students:\n",
    "    print(\"It's inside\")\n",
    "else:\n",
    "    print(\"It's not\")"
   ]
  },
  {
   "cell_type": "code",
   "execution_count": 9,
   "id": "3acbbd75",
   "metadata": {},
   "outputs": [
    {
     "name": "stdout",
     "output_type": "stream",
     "text": [
      "47\n",
      "907\n",
      "375\n",
      "823\n",
      "597\n",
      "615\n",
      "953\n",
      "345\n",
      "399\n",
      "219\n",
      "237\n",
      "949\n",
      "687\n",
      "217\n",
      "815\n",
      "67\n",
      "767\n",
      "553\n",
      "81\n",
      "379\n",
      "843\n",
      "831\n",
      "445\n",
      "717\n",
      "743\n",
      "527\n"
     ]
    }
   ],
   "source": [
    "#Write a Python program to print all even numbers from a given numbers list in the same order\n",
    "numbers = [386, 462, 47, 418, 907, 344, 236, 375, 823, 566, 597, 978, 328, 615, 953, 345,\n",
    "399, 162, 758, 219, 918, 237, 412, 566, 826, 248, 866, 950, 626, 949, 687, 217,\n",
    "815, 67, 104, 58, 512, 24, 892, 894, 767, 553, 81, 379, 843, 831, 445, 742, 717,\n",
    "958,743, 527 ]\n",
    "for i in numbers:\n",
    "    if i % 2 == 1:\n",
    "        print(i)"
   ]
  },
  {
   "cell_type": "code",
   "execution_count": 20,
   "id": "ce88eb8a",
   "metadata": {},
   "outputs": [
    {
     "name": "stdout",
     "output_type": "stream",
     "text": [
      "{0: 1, 1: 3, 2: 1, 3: 1, 7: 2, 23: 1}\n"
     ]
    }
   ],
   "source": [
    "#Write a Python program to create a histogram from a given list of integers\n",
    "numbers = [0, 1, 1, 1, 2, 3, 7, 7, 23]\n",
    "histogram = {}\n",
    "for i in numbers:\n",
    "    histogram[i] = histogram.get(i, 0) + 1\n",
    "print(histogram)"
   ]
  },
  {
   "cell_type": "code",
   "execution_count": 21,
   "id": "aea42255",
   "metadata": {},
   "outputs": [
    {
     "name": "stdout",
     "output_type": "stream",
     "text": [
      "Enter the base: 4\n",
      "Enter the height: 5\n",
      "10.0\n"
     ]
    }
   ],
   "source": [
    "#Write a Python program that will accept the base and height of a triangle and compute the area\n",
    "b = float(input(\"Enter the base: \"))\n",
    "h = float(input(\"Enter the height: \"))\n",
    "print(b*h/2)"
   ]
  },
  {
   "cell_type": "code",
   "execution_count": 33,
   "id": "5ada9507",
   "metadata": {},
   "outputs": [
    {
     "name": "stdout",
     "output_type": "stream",
     "text": [
      "Input a positive integer please: 12\n",
      "Input a positive integer please: 40\n",
      "120\n"
     ]
    }
   ],
   "source": [
    "#Write a Python program to get the least common multiple (LCM) of two positive integers\n",
    "x = int(input(\"Input a positive integer please: \"))\n",
    "y = int(input(\"Input a positive integer please: \"))\n",
    "LCM = y\n",
    "bro = True\n",
    "while bro:\n",
    "    if LCM % x == 0 and LCM % y == 0:\n",
    "        print(LCM)\n",
    "        bro = False\n",
    "    LCM += 1"
   ]
  },
  {
   "cell_type": "code",
   "execution_count": 35,
   "id": "f35a892c",
   "metadata": {},
   "outputs": [
    {
     "name": "stdout",
     "output_type": "stream",
     "text": [
      "Enter a number: 2\n",
      "Enter a number: 3\n",
      "Enter a number: 4\n",
      "9\n"
     ]
    }
   ],
   "source": [
    "#Write a Python program to sum of three given integers. However, if two values are equal sum will be zero\n",
    "a = int(input(\"Enter a number: \"))\n",
    "b = int(input(\"Enter a number: \"))\n",
    "c = int(input(\"Enter a number: \"))\n",
    "if a == b or a == c or b == c:\n",
    "    print(0)\n",
    "else:\n",
    "    print(a + b + c)"
   ]
  },
  {
   "cell_type": "code",
   "execution_count": 36,
   "id": "f5238b72",
   "metadata": {},
   "outputs": [
    {
     "name": "stdout",
     "output_type": "stream",
     "text": [
      "Enter a number: 4\n",
      "Enter a number: 3\n",
      "49\n"
     ]
    }
   ],
   "source": [
    "#Write a Python program to solve (x + y) * (x + y)\n",
    "x = int(input(\"Enter a number: \"))\n",
    "y = int(input(\"Enter a number: \"))\n",
    "print((x+y)**2)"
   ]
  },
  {
   "cell_type": "code",
   "execution_count": 38,
   "id": "5c9e26d3",
   "metadata": {},
   "outputs": [
    {
     "name": "stdout",
     "output_type": "stream",
     "text": [
      "12722.792627665736\n"
     ]
    }
   ],
   "source": [
    "#Write a Python program to compute the future value of a specified principal amount, rate of interest, and a number of years\n",
    "amt = 10000\n",
    "intst = 3.5\n",
    "y = 7\n",
    "while y>0:\n",
    "    amt += amt * intst/100\n",
    "    y -= 1\n",
    "print(amt)"
   ]
  },
  {
   "cell_type": "code",
   "execution_count": 43,
   "id": "00b1bb91",
   "metadata": {},
   "outputs": [
    {
     "name": "stdout",
     "output_type": "stream",
     "text": [
      "Enter x1: 5\n",
      "Enter x2: 8\n",
      "Enter y1: 4\n",
      "Enter y2: 3\n",
      "3 1\n"
     ]
    }
   ],
   "source": [
    "#Write a Python program to compute the distance between the points (x1, y1) and (x2, y2)\n",
    "x1 = int(input(\"Enter x1: \"))\n",
    "x2 = int(input(\"Enter x2: \"))\n",
    "y1 = int(input(\"Enter y1: \"))\n",
    "y2 = int(input(\"Enter y2: \"))\n",
    "if x1 > x2:\n",
    "    if y1 > y2:\n",
    "        print(x1 - x2, y1 - y2)\n",
    "    else:\n",
    "        print(x1 - x2, y2 - y1)\n",
    "else:\n",
    "    if y1 > y2:\n",
    "        print(x2 - x1, y1 - y2)\n",
    "    else:\n",
    "        print(x2 - x1, y2 - y1)"
   ]
  },
  {
   "cell_type": "code",
   "execution_count": 46,
   "id": "20bc3518",
   "metadata": {},
   "outputs": [
    {
     "name": "stdout",
     "output_type": "stream",
     "text": [
      "Enter a number: 10\n",
      "55\n"
     ]
    }
   ],
   "source": [
    "#Write a python program to sum of the first n positive integers\n",
    "n = int(input(\"Enter a number: \"))\n",
    "i = n\n",
    "while i > 0:\n",
    "    i -= 1\n",
    "    n += i\n",
    "print(n)"
   ]
  },
  {
   "cell_type": "code",
   "execution_count": 48,
   "id": "9c374836",
   "metadata": {},
   "outputs": [
    {
     "name": "stdout",
     "output_type": "stream",
     "text": [
      "Enter height in feet (if below 1 feet, input 0): 6\n",
      "Enter height in inch (0 to 11): 11\n",
      "210.82 cm\n"
     ]
    }
   ],
   "source": [
    "#Write a Python program to convert height (in feet and inches) to centimeters\n",
    "ft = int(input(\"Enter height in feet (if below 1 feet, input 0): \"))\n",
    "inch = int(input(\"Enter height in inch (0 to 11): \"))\n",
    "print((ft*12+inch)*2.54, \"cm\")"
   ]
  },
  {
   "cell_type": "code",
   "execution_count": 50,
   "id": "df5bf71a",
   "metadata": {},
   "outputs": [
    {
     "name": "stdout",
     "output_type": "stream",
     "text": [
      "Enter a number: 3\n",
      "Enter a number: 4\n",
      "5.0\n"
     ]
    }
   ],
   "source": [
    "#Write a Python program to calculate the hypotenuse of a right angled triangle\n",
    "a = float(input(\"Enter a number: \" ))\n",
    "b = float(input(\"Enter a number: \" ))\n",
    "print((a**2+b**2)**0.5)"
   ]
  },
  {
   "cell_type": "code",
   "execution_count": 52,
   "id": "7cd38116",
   "metadata": {},
   "outputs": [
    {
     "name": "stdout",
     "output_type": "stream",
     "text": [
      "Enter weight in kg: 50\n",
      "Enter height in m: 1\n",
      "50.0\n"
     ]
    }
   ],
   "source": [
    "#Write a Python program to calculate body mass index\n",
    "weight = float(input(\"Enter weight in kg: \"))\n",
    "height = float(input(\"Enter height in m: \"))\n",
    "print(weight/height**2)"
   ]
  },
  {
   "cell_type": "code",
   "execution_count": 55,
   "id": "bf05c1e7",
   "metadata": {},
   "outputs": [
    {
     "name": "stdout",
     "output_type": "stream",
     "text": [
      "Enter x1: 3\n",
      "Enter x2: 4\n",
      "Enter y1: 5\n",
      "Enter y2: 6\n",
      "(3.5, 5.5)\n"
     ]
    }
   ],
   "source": [
    "#Write a Python program to calculate midpoints of a line\n",
    "x1 = float(input(\"Enter x1: \"))\n",
    "x2 = float(input(\"Enter x2: \"))\n",
    "y1 = float(input(\"Enter y1: \"))\n",
    "y2 = float(input(\"Enter y2: \"))\n",
    "midpoint = ((x1+x2)\n",
    "print(midpoint)"
   ]
  },
  {
   "cell_type": "code",
   "execution_count": 61,
   "id": "03158e72",
   "metadata": {},
   "outputs": [
    {
     "name": "stdout",
     "output_type": "stream",
     "text": [
      "2002, 2009, 2016, 2023, 2037, 2044, 2051, 2058, 2072, 2079, 2086, 2093, 2107, 2114, 2121, 2128, 2142, 2149, 2156, 2163, 2177, 2184, 2191, 2198, 2212, 2219, 2226, 2233, 2247, 2254, 2261, 2268, 2282, 2289, 2296, 2303, 2317, 2324, 2331, 2338, 2352, 2359, 2366, 2373, 2387, 2394, 2401, 2408, 2422, 2429, 2436, 2443, 2457, 2464, 2471, 2478, 2492, 2499, 2506, 2513, 2527, 2534, 2541, 2548, 2562, 2569, 2576, 2583, 2597, 2604, 2611, 2618, 2632, 2639, 2646, 2653, 2667, 2674, 2681, 2688, 2702, 2709, 2716, 2723, 2737, 2744, 2751, 2758, 2772, 2779, 2786, 2793, 2807, 2814, 2821, 2828, 2842, 2849, 2856, 2863, 2877, 2884, 2891, 2898, 2912, 2919, 2926, 2933, 2947, 2954, 2961, 2968, 2982, 2989, 2996, 3003, 3017, 3024, 3031, 3038, 3052, 3059, 3066, 3073, 3087, 3094, 3101, 3108, 3122, 3129, 3136, 3143, 3157, 3164, 3171, 3178, 3192, 3199\n"
     ]
    }
   ],
   "source": [
    "#Write a program which will find all such numbers which are divisible by 7 but are not a multiple of 5, between 2000 and 3200 (both included). The numbers obtained should be printed in a comma-separated sequence on a single line\n",
    "bro = []\n",
    "for i in range(2000, 3201):\n",
    "    if i % 7 == 0 and i % 5 != 0:\n",
    "        bro.append(i)\n",
    "print(*bro, sep=\", \")"
   ]
  },
  {
   "cell_type": "code",
   "execution_count": null,
   "id": "691c9b22",
   "metadata": {},
   "outputs": [],
   "source": []
  }
 ],
 "metadata": {
  "kernelspec": {
   "display_name": "Python 3 (ipykernel)",
   "language": "python",
   "name": "python3"
  },
  "language_info": {
   "codemirror_mode": {
    "name": "ipython",
    "version": 3
   },
   "file_extension": ".py",
   "mimetype": "text/x-python",
   "name": "python",
   "nbconvert_exporter": "python",
   "pygments_lexer": "ipython3",
   "version": "3.10.2"
  }
 },
 "nbformat": 4,
 "nbformat_minor": 5
}
