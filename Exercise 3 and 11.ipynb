{
 "cells": [
  {
   "cell_type": "code",
   "execution_count": 10,
   "id": "3aeac034",
   "metadata": {},
   "outputs": [
    {
     "name": "stdout",
     "output_type": "stream",
     "text": [
      "False\n"
     ]
    }
   ],
   "source": [
    "def isprime(x):\n",
    "    y = True\n",
    "    for i in range(2, x):\n",
    "        if x % i == 0:\n",
    "            y = False\n",
    "            break\n",
    "    if x == 1:\n",
    "        y = False\n",
    "    return y\n",
    "\n",
    "\n",
    "print(isprime(1))"
   ]
  },
  {
   "cell_type": "code",
   "execution_count": 13,
   "id": "ffe65987",
   "metadata": {},
   "outputs": [
    {
     "name": "stdout",
     "output_type": "stream",
     "text": [
      "[50000, 500]\n"
     ]
    }
   ],
   "source": [
    "def cash_register(price, cash):\n",
    "    bills = [100000, 50000, 20000, 10000, 5000, 2000, 1000, 500, 200, 100]\n",
    "    money = []\n",
    "    change = cash - price\n",
    "    x = 0\n",
    "    while True:\n",
    "        if x >= 10:\n",
    "            break\n",
    "        if change >= bills[x]:\n",
    "            money.append(bills[x])\n",
    "            change -= bills[x]\n",
    "        elif change < bills[x]:\n",
    "            x += 1\n",
    "    return money\n",
    "\n",
    "\n",
    "print(cash_register(49500, 100000))"
   ]
  },
  {
   "cell_type": "code",
   "execution_count": null,
   "id": "b4fb4caa",
   "metadata": {},
   "outputs": [],
   "source": []
  }
 ],
 "metadata": {
  "kernelspec": {
   "display_name": "Python 3 (ipykernel)",
   "language": "python",
   "name": "python3"
  },
  "language_info": {
   "codemirror_mode": {
    "name": "ipython",
    "version": 3
   },
   "file_extension": ".py",
   "mimetype": "text/x-python",
   "name": "python",
   "nbconvert_exporter": "python",
   "pygments_lexer": "ipython3",
   "version": "3.10.2"
  }
 },
 "nbformat": 4,
 "nbformat_minor": 5
}
