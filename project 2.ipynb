{
 "cells": [
  {
   "cell_type": "code",
   "execution_count": 3,
   "id": "63c9a4a6",
   "metadata": {},
   "outputs": [
    {
     "name": "stdout",
     "output_type": "stream",
     "text": [
      "Enter the point px: 6\n",
      "Enter the point py: -8\n",
      "Enter the point qx: 1\n",
      "Enter the point qy: 2\n",
      "the point r is = (-4, 12)\n"
     ]
    }
   ],
   "source": [
    "px = int(input(\"Enter the point px: \"))\n",
    "py = int(input(\"Enter the point py: \"))\n",
    "qx = int(input(\"Enter the point qx: \"))\n",
    "qy = int(input(\"Enter the point qy: \"))\n",
    "rx = (qx - px) + qx\n",
    "ry = (qy - py) + qy\n",
    "r = (rx,ry)\n",
    "print(\"the point r is =\", r)"
   ]
  },
  {
   "cell_type": "code",
   "execution_count": 4,
   "id": "84d83c4c",
   "metadata": {},
   "outputs": [
    {
     "name": "stdout",
     "output_type": "stream",
     "text": [
      "Enter burger selling price: 6\n",
      "Enter soda selling price: 9\n",
      "Enter combo meal selling price: 1\n",
      "The fixed price is $14.00\n"
     ]
    }
   ],
   "source": [
    "burger = int(input(\"Enter burger selling price: \"))\n",
    "soda = int(input(\"Enter soda selling price: \"))\n",
    "combo = int(input(\"Enter combo meal selling price: \"))\n",
    "price = burger + soda - combo\n",
    "print(\"The fixed price is $\" + str(price) + \".00\")"
   ]
  },
  {
   "cell_type": "code",
   "execution_count": null,
   "id": "60b7bc32",
   "metadata": {},
   "outputs": [],
   "source": []
  }
 ],
 "metadata": {
  "kernelspec": {
   "display_name": "Python 3 (ipykernel)",
   "language": "python",
   "name": "python3"
  },
  "language_info": {
   "codemirror_mode": {
    "name": "ipython",
    "version": 3
   },
   "file_extension": ".py",
   "mimetype": "text/x-python",
   "name": "python",
   "nbconvert_exporter": "python",
   "pygments_lexer": "ipython3",
   "version": "3.10.2"
  }
 },
 "nbformat": 4,
 "nbformat_minor": 5
}
