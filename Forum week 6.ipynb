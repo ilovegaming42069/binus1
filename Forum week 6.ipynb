{
 "cells": [
  {
   "cell_type": "code",
   "execution_count": 5,
   "id": "f0f9537a",
   "metadata": {},
   "outputs": [
    {
     "name": "stdout",
     "output_type": "stream",
     "text": [
      "{'gold': 550, 'pouch': ['flint', 'twine', 'gemstone'], 'backpack': ['bedroll', 'bread loaf', 'xylophone'], 'pocket': ['seashell', 'strange berry', 'lint']}\n"
     ]
    }
   ],
   "source": [
    "inventory = {\n",
    "'gold' : 500,\n",
    "'pouch' : ['flint', 'twine', 'gemstone'],\n",
    "'backpack' : ['xylophone','dagger', 'bedroll','bread loaf']\n",
    "}\n",
    "\n",
    "inventory['pocket'] = ['seashell', 'strange berry', 'lint']\n",
    "inventory['backpack'].sort()\n",
    "inventory['backpack'].remove('dagger')\n",
    "inventory['gold'] += 50\n",
    "print(inventory)"
   ]
  },
  {
   "cell_type": "code",
   "execution_count": 7,
   "id": "c6533151",
   "metadata": {},
   "outputs": [
    {
     "name": "stdout",
     "output_type": "stream",
     "text": [
      "banana\n",
      "price: 4\n",
      "stock: 6\n",
      "apple\n",
      "price: 2\n",
      "stock: 0\n",
      "orange\n",
      "price: 1.5\n",
      "stock: 32\n",
      "pear\n",
      "price: 3\n",
      "stock: 15\n",
      "117.0\n"
     ]
    }
   ],
   "source": [
    "stock = {\n",
    "\"banana\": 6,\n",
    "\"apple\": 0,\n",
    "\"orange\": 32,\n",
    "\"pear\": 15\n",
    "}\n",
    "\n",
    "prices = {\n",
    "\"banana\": 4,\n",
    "\"apple\": 2,\n",
    "\"orange\": 1.5,\n",
    "\"pear\": 3\n",
    "}\n",
    "\n",
    "for i in prices:\n",
    "    print(i)\n",
    "    print(\"price:\", prices[i])\n",
    "    print(\"stock:\", stock[i])\n",
    "\n",
    "total = 0\n",
    "for i in prices:\n",
    "    total += prices[i] * stock[i]\n",
    "print(total)"
   ]
  },
  {
   "cell_type": "code",
   "execution_count": 9,
   "id": "b0ae25e8",
   "metadata": {},
   "outputs": [
    {
     "name": "stdout",
     "output_type": "stream",
     "text": [
      "10.5\n",
      "8.5\n"
     ]
    }
   ],
   "source": [
    "def compute_bill(food):\n",
    "    total = 0\n",
    "    for i in food:\n",
    "        total += food[i]\n",
    "    return total\n",
    "\n",
    "def compute_billv2(food):\n",
    "    total = 0\n",
    "    for i in food:\n",
    "        if stock[i] != 0:\n",
    "            total += food[i]\n",
    "            stock[i] -= 1\n",
    "    return total\n",
    "\n",
    "print(compute_bill(prices))\n",
    "print(compute_billv2(prices))"
   ]
  },
  {
   "cell_type": "code",
   "execution_count": 14,
   "id": "73b1d0a5",
   "metadata": {},
   "outputs": [
    {
     "name": "stdout",
     "output_type": "stream",
     "text": [
      "Eren\n",
      "[90.0, 97.0, 75.0, 92.0]\n",
      "[88.0, 40.0, 94.0]\n",
      "[75.0, 90.0]\n",
      "Mikasa\n",
      "[100.0, 92.0, 98.0, 100.0]\n",
      "[82.0, 83.0, 91.0]\n",
      "[89.0, 97.0]\n",
      "Armin\n",
      "[0.0, 87.0, 75.0, 22.0]\n",
      "[0.0, 75.0, 78.0]\n",
      "[100.0, 100.0]\n",
      "83.86666666666666\n",
      "B\n"
     ]
    }
   ],
   "source": [
    "eren = {\n",
    "\"name\": \"Eren\",\n",
    "\"homework\": [90.0,97.0,75.0,92.0],\n",
    "\"quizzes\": [88.0,40.0,94.0],\n",
    "\"tests\": [75.0,90.0]\n",
    "}\n",
    "mikasa = {\n",
    "\"name\": \"Mikasa\",\n",
    "\"homework\": [100.0, 92.0, 98.0, 100.0],\n",
    "\"quizzes\": [82.0, 83.0, 91.0],\n",
    "\"tests\": [89.0, 97.0]\n",
    "}\n",
    "armin = {\n",
    "\"name\": \"Armin\",\n",
    "\"homework\": [0.0, 87.0, 75.0, 22.0],\n",
    "\"quizzes\": [0.0, 75.0, 78.0],\n",
    "\"tests\": [100.0, 100.0]\n",
    "}\n",
    "students = [eren, mikasa, armin]\n",
    "for i in students:\n",
    "    print(i[\"name\"])\n",
    "    print(i[\"homework\"])\n",
    "    print(i[\"quizzes\"])\n",
    "    print(i[\"tests\"])\n",
    "\n",
    "def average(numbers):\n",
    "    total = sum(numbers)\n",
    "    total = float(total)\n",
    "    return total / len(numbers)\n",
    "\n",
    "def get_average(student):\n",
    "    homework = average(student[\"homework\"])\n",
    "    quizzes = average(student[\"quizzes\"])\n",
    "    tests = average(student[\"tests\"])\n",
    "    homework *= 1/10\n",
    "    quizzes *= 3/10\n",
    "    tests *= 3/5\n",
    "    return homework + quizzes + tests\n",
    "\n",
    "def get_letter_grade(score):\n",
    "    if score >= 90:\n",
    "        return \"A\"\n",
    "    elif 80 <= score < 90:\n",
    "        return \"B\"\n",
    "    elif 70 <= score < 80:\n",
    "        return \"C\"\n",
    "    elif 60 <= score < 70:\n",
    "        return \"D\"\n",
    "    else:\n",
    "        return \"F\"\n",
    "\n",
    "def get_class_average(students):\n",
    "    results = []\n",
    "    for i in students:\n",
    "        results.append(get_average(i))\n",
    "    return average(results)\n",
    "\n",
    "print(get_class_average(students))\n",
    "print(get_letter_grade(get_class_average(students)))"
   ]
  },
  {
   "cell_type": "code",
   "execution_count": null,
   "id": "9da71c97",
   "metadata": {},
   "outputs": [],
   "source": []
  }
 ],
 "metadata": {
  "kernelspec": {
   "display_name": "Python 3 (ipykernel)",
   "language": "python",
   "name": "python3"
  },
  "language_info": {
   "codemirror_mode": {
    "name": "ipython",
    "version": 3
   },
   "file_extension": ".py",
   "mimetype": "text/x-python",
   "name": "python",
   "nbconvert_exporter": "python",
   "pygments_lexer": "ipython3",
   "version": "3.10.2"
  }
 },
 "nbformat": 4,
 "nbformat_minor": 5
}
