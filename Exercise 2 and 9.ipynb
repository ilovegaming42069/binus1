{
 "cells": [
  {
   "cell_type": "code",
   "execution_count": 9,
   "id": "57c581fc",
   "metadata": {},
   "outputs": [
    {
     "name": "stdout",
     "output_type": "stream",
     "text": [
      "6\n"
     ]
    }
   ],
   "source": [
    "def game_with_cells(m, n):\n",
    "    x = 1\n",
    "    y = 1\n",
    "    for i in range(1, m + 1, 2):\n",
    "        if i > 2:\n",
    "            x += 1\n",
    "    for i in range(1, n + 1, 2):\n",
    "        if i > 2:\n",
    "            y += 1\n",
    "    return x * y\n",
    "\n",
    "print(game_with_cells(6, 4))"
   ]
  },
  {
   "cell_type": "code",
   "execution_count": 18,
   "id": "4631cd65",
   "metadata": {},
   "outputs": [
    {
     "name": "stdout",
     "output_type": "stream",
     "text": [
      "This is b sfdrft\n"
     ]
    }
   ],
   "source": [
    "def decrypt_caesar_cipher(sentence, n):\n",
    "    sentence = list(sentence.strip(\" \"))\n",
    "    for i in range(len(sentence)):\n",
    "        alphabet_upper = [\"A\", \"B\", \"C\", \"D\", \"E\", \"F\", \"G\", \"E\", \"H\", \"I\", \"J\", \"K\", \"L\", \"M\", \"N\", \"O\", \"P\", \"Q\", \"R\", \"S\", \"T\", \"U\", \"V\", \"W\", \"X\", \"Y\", \"Z\"]\n",
    "        alphabet_lower = [\"a\", \"b\", \"c\", \"d\", \"e\", \"f\", \"g\", \"e\", \"h\", \"i\", \"j\", \"k\", \"l\", \"m\", \"n\", \"o\", \"p\", \"q\", \"r\", \"s\", \"t\", \"u\", \"v\", \"w\", \"x\", \"y\", \"z\"]\n",
    "        for j in range(len(alphabet_upper)):\n",
    "            if sentence[i] == alphabet_upper[j]:\n",
    "                sentence[i] = alphabet_upper[j - n]\n",
    "                break\n",
    "            elif sentence[i] == alphabet_lower[j]:\n",
    "                sentence[i] = alphabet_lower[j - n]\n",
    "                break\n",
    "    sentence = \"\".join(sentence)\n",
    "    return sentence\n",
    "print(decrypt_caesar_cipher(\"Aopz pz h zljyla\", 7))"
   ]
  },
  {
   "cell_type": "code",
   "execution_count": null,
   "id": "f03d4796",
   "metadata": {},
   "outputs": [],
   "source": []
  }
 ],
 "metadata": {
  "kernelspec": {
   "display_name": "Python 3 (ipykernel)",
   "language": "python",
   "name": "python3"
  },
  "language_info": {
   "codemirror_mode": {
    "name": "ipython",
    "version": 3
   },
   "file_extension": ".py",
   "mimetype": "text/x-python",
   "name": "python",
   "nbconvert_exporter": "python",
   "pygments_lexer": "ipython3",
   "version": "3.10.2"
  }
 },
 "nbformat": 4,
 "nbformat_minor": 5
}
