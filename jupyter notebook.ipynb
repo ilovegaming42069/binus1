{
 "cells": [
  {
   "cell_type": "code",
   "execution_count": 3,
   "id": "f022f0fc",
   "metadata": {},
   "outputs": [
    {
     "name": "stdout",
     "output_type": "stream",
     "text": [
      "Enter amount of bill: 75\n",
      "Enter number of people: 3\n",
      "Enter amount of tips (%): 25\n",
      "Tip Amount per person $6.25\n",
      "Total amount per person $31.25\n"
     ]
    }
   ],
   "source": [
    "x = float(input(\"Enter amount of bill: \"))\n",
    "y = int(input(\"Enter number of people: \"))\n",
    "z = float(input(\"Enter amount of tips (%): \"))\n",
    "tip = x/y*(z/100)\n",
    "print(\"Tip Amount per person $\" + str(tip))\n",
    "print(\"Total amount per person $\" + str(tip+x/y))"
   ]
  },
  {
   "cell_type": "code",
   "execution_count": null,
   "id": "15058dd0",
   "metadata": {},
   "outputs": [],
   "source": [
    "seconds = int(input(\"Enter the number of seconds: \"))\n",
    "hours = seconds//3600\n",
    "seconds -= hours*3600\n",
    "minutes = seconds//60\n",
    "seconds -= minutes*60\n",
    "print(hours,minutes,seconds,sep=':')"
   ]
  },
  {
   "cell_type": "code",
   "execution_count": null,
   "id": "84add74f",
   "metadata": {},
   "outputs": [],
   "source": []
  },
  {
   "cell_type": "code",
   "execution_count": null,
   "id": "75d2270c",
   "metadata": {},
   "outputs": [],
   "source": []
  }
 ],
 "metadata": {
  "kernelspec": {
   "display_name": "Python 3 (ipykernel)",
   "language": "python",
   "name": "python3"
  },
  "language_info": {
   "codemirror_mode": {
    "name": "ipython",
    "version": 3
   },
   "file_extension": ".py",
   "mimetype": "text/x-python",
   "name": "python",
   "nbconvert_exporter": "python",
   "pygments_lexer": "ipython3",
   "version": "3.10.2"
  }
 },
 "nbformat": 4,
 "nbformat_minor": 5
}
