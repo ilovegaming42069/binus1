{
 "cells": [
  {
   "cell_type": "code",
   "execution_count": 3,
   "id": "9b1c4383",
   "metadata": {},
   "outputs": [
    {
     "name": "stdout",
     "output_type": "stream",
     "text": [
      "Please enter english sentence: My favorite subject\n",
      "ymay avoritefay ubjectsay\n"
     ]
    }
   ],
   "source": [
    "vowels = [\"a\", \"i\", \"u\", \"e\", \"o\"]\n",
    "sentence = input(\"Please enter english sentence: \").strip().lower().split()\n",
    "sentence2 = []\n",
    "for i in sentence:\n",
    "    if i[0] in [\"a\", \"i\", \"u\", \"e\", \"o\"]:\n",
    "        word = i + \"yay\"\n",
    "        sentence2.append(word)\n",
    "    else:\n",
    "        word = i[1:] + i[0] + \"ay\"\n",
    "        sentence2.append(word)\n",
    "sentence2 = \" \".join(sentence2)\n",
    "print(sentence2)"
   ]
  },
  {
   "cell_type": "code",
   "execution_count": 27,
   "id": "00dc0d4f",
   "metadata": {},
   "outputs": [
    {
     "name": "stdout",
     "output_type": "stream",
     "text": [
      "Please select a coordinate: D5\n",
      "A8 B8 C8 D8 E8 F8 G8 H8 \n",
      "A7 B7 XX D7 XX F7 G7 H7 \n",
      "A6 XX C6 D6 E6 XX G6 H6 \n",
      "A5 B5 C5 KN E5 F5 G5 H5 \n",
      "A4 XX C4 D4 E4 XX G4 H4 \n",
      "A3 B3 XX D3 XX F3 G3 H3 \n",
      "A2 B2 C2 D2 E2 F2 G2 H2 \n",
      "A1 B1 C1 D1 E1 F1 G1 H1 \n"
     ]
    }
   ],
   "source": [
    "coordinate = input(\"Please select a coordinate: \")\n",
    "newcoordinate = list(coordinate)\n",
    "possiblecoordinates = []\n",
    "chessboard = [[\"A\",\"8\"],[\"B\",\"8\"],[\"C\",\"8\"],[\"D\",\"8\"],[\"E\",\"8\"],[\"F\",\"8\"],[\"G\",\"8\"],[\"H\",\"8\"],\n",
    "              [\"A\",\"7\"],[\"B\",\"7\"],[\"C\",\"7\"],[\"D\",\"7\"],[\"E\",\"7\"],[\"F\",\"7\"],[\"G\",\"7\"],[\"H\",\"7\"],\n",
    "              [\"A\",\"6\"],[\"B\",\"6\"],[\"C\",\"6\"],[\"D\",\"6\"],[\"E\",\"6\"],[\"F\",\"6\"],[\"G\",\"6\"],[\"H\",\"6\"],\n",
    "              [\"A\",\"5\"],[\"B\",\"5\"],[\"C\",\"5\"],[\"D\",\"5\"],[\"E\",\"5\"],[\"F\",\"5\"],[\"G\",\"5\"],[\"H\",\"5\"],\n",
    "              [\"A\",\"4\"],[\"B\",\"4\"],[\"C\",\"4\"],[\"D\",\"4\"],[\"E\",\"4\"],[\"F\",\"4\"],[\"G\",\"4\"],[\"H\",\"4\"],\n",
    "              [\"A\",\"3\"],[\"B\",\"3\"],[\"C\",\"3\"],[\"D\",\"3\"],[\"E\",\"3\"],[\"F\",\"3\"],[\"G\",\"3\"],[\"H\",\"3\"],\n",
    "              [\"A\",\"2\"],[\"B\",\"2\"],[\"C\",\"2\"],[\"D\",\"2\"],[\"E\",\"2\"],[\"F\",\"2\"],[\"G\",\"2\"],[\"H\",\"2\"],\n",
    "              [\"A\",\"1\"],[\"B\",\"1\"],[\"C\",\"1\"],[\"D\",\"1\"],[\"E\",\"1\"],[\"F\",\"1\"],[\"G\",\"1\"],[\"H\",\"1\"]]\n",
    "for i in range(len(chessboard)):\n",
    "    if chessboard[i] == newcoordinate:\n",
    "        chessboard[i] = [\"K\",\"N\"]\n",
    "newcoordinate[1] = int(coordinate[1])\n",
    "if newcoordinate[0] == \"A\":\n",
    "    newcoordinate[0] = 1\n",
    "elif newcoordinate[0] == \"B\":\n",
    "    newcoordinate[0] = 2\n",
    "elif newcoordinate[0] == \"C\":\n",
    "    newcoordinate[0] = 3\n",
    "elif newcoordinate[0] == \"D\":\n",
    "    newcoordinate[0] = 4\n",
    "elif newcoordinate[0] == \"E\":\n",
    "    newcoordinate[0] = 5\n",
    "elif newcoordinate[0] == \"F\":\n",
    "    newcoordinate[0] = 6\n",
    "elif newcoordinate[0] == \"G\":\n",
    "    newcoordinate[0] = 7\n",
    "elif newcoordinate[0] == \"H\":\n",
    "    newcoordinate[0] = 8\n",
    "if 1 <= newcoordinate[0] <= 6 and 1 <= newcoordinate[1] <= 7:\n",
    "    possiblecoordinate = [newcoordinate[0] + 2, newcoordinate[1] + 1]\n",
    "    possiblecoordinates.append(possiblecoordinate)\n",
    "if 1 <= newcoordinate[0] <= 7 and 1 <= newcoordinate[1] <= 6:\n",
    "    possiblecoordinate = [newcoordinate[0] + 1, newcoordinate[1] + 2]\n",
    "    possiblecoordinates.append(possiblecoordinate)\n",
    "if 1 <= newcoordinate[0] <= 6 and 2 <= newcoordinate[1] <= 8:\n",
    "    possiblecoordinate = [newcoordinate[0] + 2, newcoordinate[1] - 1]\n",
    "    possiblecoordinates.append(possiblecoordinate)\n",
    "if 1 <= newcoordinate[0] <= 7 and 3 <= newcoordinate[1] <= 8:\n",
    "    possiblecoordinate = [newcoordinate[0] + 1, newcoordinate[1] - 2]\n",
    "    possiblecoordinates.append(possiblecoordinate)\n",
    "if 3 <= newcoordinate[0] <= 8 and 1 <= newcoordinate[1] <= 7:\n",
    "    possiblecoordinate = [newcoordinate[0] - 2, newcoordinate[1] + 1]\n",
    "    possiblecoordinates.append(possiblecoordinate)\n",
    "if 2 <= newcoordinate[0] <= 8 and 1 <= newcoordinate[1] <= 6:\n",
    "    possiblecoordinate = [newcoordinate[0] - 1, newcoordinate[1] + 2]\n",
    "    possiblecoordinates.append(possiblecoordinate)\n",
    "if 3 <= newcoordinate[0] <= 8 and 2 <= newcoordinate[1] <= 8:\n",
    "    possiblecoordinate = [newcoordinate[0] - 2, newcoordinate[1] - 1]\n",
    "    possiblecoordinates.append(possiblecoordinate)\n",
    "if 2 <= newcoordinate[0] <= 8 and 3 <= newcoordinate[1] <= 8:\n",
    "    possiblecoordinate = [newcoordinate[0] - 1, newcoordinate[1] - 2]\n",
    "    possiblecoordinates.append(possiblecoordinate)\n",
    "for i in range(len(possiblecoordinates)):\n",
    "    possiblecoordinates[i][1] = str(possiblecoordinates[i][1])\n",
    "    if possiblecoordinates[i][0] == 1:\n",
    "        possiblecoordinates[i][0] = \"A\"\n",
    "    elif possiblecoordinates[i][0] == 2:\n",
    "        possiblecoordinates[i][0] = \"B\"\n",
    "    elif possiblecoordinates[i][0] == 3:\n",
    "        possiblecoordinates[i][0] = \"C\"\n",
    "    elif possiblecoordinates[i][0] == 4:\n",
    "        possiblecoordinates[i][0] = \"D\"\n",
    "    elif possiblecoordinates[i][0] == 5:\n",
    "        possiblecoordinates[i][0] = \"E\"\n",
    "    elif possiblecoordinates[i][0] == 6:\n",
    "        possiblecoordinates[i][0] = \"F\"\n",
    "    elif possiblecoordinates[i][0] == 7:\n",
    "        possiblecoordinates[i][0] = \"G\"\n",
    "    elif possiblecoordinates[i][0] == 8:\n",
    "        possiblecoordinates[i][0] = \"H\"\n",
    "count = 0\n",
    "for i in range(len(chessboard)):\n",
    "    for j in range(len(possiblecoordinates)):\n",
    "        if chessboard[i] == possiblecoordinates[j]:\n",
    "            chessboard[i] = [\"X\", \"X\"]\n",
    "    chessboard[i] = \"\".join(chessboard[i])\n",
    "    if (i+1) % 8 == 0:\n",
    "        for k in range(count, i + 1):\n",
    "            print(chessboard[k], end=\" \")\n",
    "        print()\n",
    "        count = i + 1"
   ]
  },
  {
   "cell_type": "code",
   "execution_count": null,
   "id": "a6bd5b39",
   "metadata": {},
   "outputs": [],
   "source": []
  },
  {
   "cell_type": "code",
   "execution_count": null,
   "id": "4a95b6d4",
   "metadata": {},
   "outputs": [],
   "source": []
  }
 ],
 "metadata": {
  "kernelspec": {
   "display_name": "Python 3 (ipykernel)",
   "language": "python",
   "name": "python3"
  },
  "language_info": {
   "codemirror_mode": {
    "name": "ipython",
    "version": 3
   },
   "file_extension": ".py",
   "mimetype": "text/x-python",
   "name": "python",
   "nbconvert_exporter": "python",
   "pygments_lexer": "ipython3",
   "version": "3.10.2"
  }
 },
 "nbformat": 4,
 "nbformat_minor": 5
}
