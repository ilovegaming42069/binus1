{
 "cells": [
  {
   "cell_type": "code",
   "execution_count": 46,
   "id": "2c7adeee",
   "metadata": {},
   "outputs": [],
   "source": [
    "class BankAccount:\n",
    "    def __init__(self, balance: int):\n",
    "        self.__balance = balance\n",
    "\n",
    "    def get_balance(self):\n",
    "        return self.__balance\n",
    "\n",
    "    def deposit(self, i: int):\n",
    "        if i > 0:\n",
    "            self.__balance += i\n",
    "            return True\n",
    "        return False\n",
    "\n",
    "    def pay(self, i: int):\n",
    "        if self.__balance >= i:\n",
    "            self.__balance -= i\n",
    "            return True\n",
    "        return False"
   ]
  },
  {
   "cell_type": "code",
   "execution_count": 47,
   "id": "7a1af432",
   "metadata": {},
   "outputs": [],
   "source": [
    "class User:\n",
    "    def __init__(self, username: str, balance: int):\n",
    "        self.__username = username\n",
    "        self.__bank_account = BankAccount(balance)\n",
    "    def get_balance(self) -> int:\n",
    "        return self.__bank_account.get_balance()\n",
    "\n",
    "    def deposit(self, i) -> bool:\n",
    "        return self.__bank_account.deposit(i)\n",
    "\n",
    "    def pay(self, i) -> bool:\n",
    "        return self.__bank_account.pay(i)"
   ]
  },
  {
   "cell_type": "code",
   "execution_count": 48,
   "id": "03455472",
   "metadata": {},
   "outputs": [
    {
     "name": "stdout",
     "output_type": "stream",
     "text": [
      "Transaction Complete\n",
      "Transaction Complete\n",
      "Transaction Complete\n",
      "Transaction Failed\n",
      "Transaction Complete\n"
     ]
    }
   ],
   "source": [
    "def transaction(item, user):\n",
    "    return \"Transaction Complete\" if user.pay(item) else \"Transaction Failed\"\n",
    "\n",
    "\n",
    "restaurant = {\n",
    "    \"burger\": 10,\n",
    "    \"softdrink\": 5\n",
    "}\n",
    "\n",
    "bookstore = {\n",
    "    \"comic\": 10,\n",
    "    \"magazine\": 7,\n",
    "    \"textbook\": 50\n",
    "}\n",
    "\n",
    "john = User(\"John\", 50)\n",
    "print(transaction(restaurant[\"burger\"], john))  # Output: Transaction Complete\n",
    "print(transaction(restaurant[\"softdrink\"], john))  # Output: Transaction Complete # nopep8\n",
    "print(transaction(bookstore[\"comic\"], john))  # Output: Transaction Complete\n",
    "print(transaction(bookstore[\"textbook\"], john))  # Output: Transaction Failed\n",
    "john.deposit(50)\n",
    "print(transaction(bookstore[\"textbook\"], john))  # Output: Transaction Complete"
   ]
  },
  {
   "cell_type": "code",
   "execution_count": null,
   "id": "b1b39bb8",
   "metadata": {},
   "outputs": [],
   "source": []
  }
 ],
 "metadata": {
  "kernelspec": {
   "display_name": "Python 3 (ipykernel)",
   "language": "python",
   "name": "python3"
  },
  "language_info": {
   "codemirror_mode": {
    "name": "ipython",
    "version": 3
   },
   "file_extension": ".py",
   "mimetype": "text/x-python",
   "name": "python",
   "nbconvert_exporter": "python",
   "pygments_lexer": "ipython3",
   "version": "3.10.2"
  }
 },
 "nbformat": 4,
 "nbformat_minor": 5
}
